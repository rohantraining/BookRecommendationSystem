{
 "cells": [
  {
   "cell_type": "code",
   "execution_count": 37,
   "metadata": {},
   "outputs": [
    {
     "name": "stdout",
     "output_type": "stream",
     "text": [
      "import success\n"
     ]
    }
   ],
   "source": [
    "from urllib.request import urlopen\n",
    "from bs4 import BeautifulSoup\n",
    "import pandas as pd\n",
    "from pandas import DataFrame\n",
    "\n",
    "\n",
    "print('import success')"
   ]
  },
  {
   "cell_type": "code",
   "execution_count": 38,
   "metadata": {},
   "outputs": [
    {
     "name": "stdout",
     "output_type": "stream",
     "text": [
      "page ready\n"
     ]
    }
   ],
   "source": [
    "URL = \"https://en.wikipedia.org/wiki/List_of_best-selling_books#Between_50_million_and_100_million_copies\"\n",
    "page = urlopen(URL)\n",
    "soup = BeautifulSoup(page, 'html.parser')\n",
    "print('page ready')"
   ]
  },
  {
   "cell_type": "code",
   "execution_count": 87,
   "metadata": {},
   "outputs": [
    {
     "data": {
      "text/plain": [
       "<tr>\n",
       "<td><i><a href=\"/wiki/The_Lion,_the_Witch_and_the_Wardrobe\" title=\"The Lion, the Witch and the Wardrobe\">The Lion, the Witch and the Wardrobe</a></i></td>\n",
       "<td><a href=\"/wiki/C._S._Lewis\" title=\"C. S. Lewis\">C. S. Lewis</a></td>\n",
       "<td>English</td>\n",
       "<td>1950</td>\n",
       "<td>85 million<sup class=\"reference\" id=\"cite_ref-29\"><a href=\"#cite_note-29\">[29]</a></sup></td>\n",
       "<td><a href=\"/wiki/Fantasy\" title=\"Fantasy\">Fantasy</a>, <a class=\"mw-redirect\" href=\"/wiki/Children%27s_fiction\" title=\"Children's fiction\">Children's fiction</a>\n",
       "</td></tr>"
      ]
     },
     "execution_count": 87,
     "metadata": {},
     "output_type": "execute_result"
    }
   ],
   "source": [
    "contents = [table_rows for table_rows in soup.find_all('tr')]\n",
    "contents[9]\n",
    "# len(contents)"
   ]
  },
  {
   "cell_type": "code",
   "execution_count": 94,
   "metadata": {},
   "outputs": [
    {
     "name": "stdout",
     "output_type": "stream",
     "text": [
      "Kaam ho gaya\n"
     ]
    }
   ],
   "source": [
    "def get_data(cell):\n",
    "    return \"\" if cell.find('a') == None else cell.find('a').get_text()\n",
    "def get_json_data(contents):\n",
    "    list_of_json_data = []\n",
    "    for i in range(1, 8):\n",
    "        row_cell = contents[i].find_all('td')\n",
    "        data = {\n",
    "            \"Book\": get_data(row_cell[0]),\n",
    "            \"Author\": get_data(row_cell[1]),\n",
    "            \"Original Language\":  row_cell[2].get_text().strip('\\n'),\n",
    "            \"First Published\": row_cell[3].get_text().strip('\\n'),\n",
    "            \"Approx Sales\":  row_cell[4].get_text().strip('\\n'),\n",
    "            \"Genre\": get_data(row_cell[5]),        }\n",
    "        list_of_json_data.append(data)\n",
    "    return list_of_json_data\n",
    "print(\"Kaam ho gaya\")\n"
   ]
  },
  {
   "cell_type": "code",
   "execution_count": 95,
   "metadata": {},
   "outputs": [
    {
     "name": "stdout",
     "output_type": "stream",
     "text": [
      "Dataset done\n"
     ]
    }
   ],
   "source": [
    "dataset =  pd.DataFrame(get_json_data(contents))\n",
    "print('Dataset done')"
   ]
  },
  {
   "cell_type": "code",
   "execution_count": 96,
   "metadata": {},
   "outputs": [
    {
     "data": {
      "text/html": [
       "<div>\n",
       "<style scoped>\n",
       "    .dataframe tbody tr th:only-of-type {\n",
       "        vertical-align: middle;\n",
       "    }\n",
       "\n",
       "    .dataframe tbody tr th {\n",
       "        vertical-align: top;\n",
       "    }\n",
       "\n",
       "    .dataframe thead th {\n",
       "        text-align: right;\n",
       "    }\n",
       "</style>\n",
       "<table border=\"1\" class=\"dataframe\">\n",
       "  <thead>\n",
       "    <tr style=\"text-align: right;\">\n",
       "      <th></th>\n",
       "      <th>Book</th>\n",
       "      <th>Author</th>\n",
       "      <th>Original Language</th>\n",
       "      <th>First Published</th>\n",
       "      <th>Approx Sales</th>\n",
       "      <th>Genre</th>\n",
       "    </tr>\n",
       "  </thead>\n",
       "  <tbody>\n",
       "    <tr>\n",
       "      <th>0</th>\n",
       "      <td>Don Quixote</td>\n",
       "      <td>Miguel de Cervantes</td>\n",
       "      <td>Spanish</td>\n",
       "      <td>1605 (1st Part),\\n1615 (2nd Part)</td>\n",
       "      <td>500 million[17]</td>\n",
       "      <td>Adventure Fiction</td>\n",
       "    </tr>\n",
       "    <tr>\n",
       "      <th>1</th>\n",
       "      <td>A Tale of Two Cities</td>\n",
       "      <td>Charles Dickens</td>\n",
       "      <td>English</td>\n",
       "      <td>1859</td>\n",
       "      <td>200 million[18][circular reporting?]</td>\n",
       "      <td>Historical fiction</td>\n",
       "    </tr>\n",
       "    <tr>\n",
       "      <th>2</th>\n",
       "      <td>The Little Prince</td>\n",
       "      <td>Antoine de Saint-Exupéry</td>\n",
       "      <td>French</td>\n",
       "      <td>1943</td>\n",
       "      <td>200 million[19][20]</td>\n",
       "      <td>Novella</td>\n",
       "    </tr>\n",
       "    <tr>\n",
       "      <th>3</th>\n",
       "      <td>Harry Potter and the Philosopher's Stone</td>\n",
       "      <td>J. K. Rowling</td>\n",
       "      <td>English</td>\n",
       "      <td>1997</td>\n",
       "      <td>120 million[21][22]</td>\n",
       "      <td>Fantasy</td>\n",
       "    </tr>\n",
       "    <tr>\n",
       "      <th>4</th>\n",
       "      <td>And Then There Were None</td>\n",
       "      <td>Agatha Christie</td>\n",
       "      <td>English</td>\n",
       "      <td>1939</td>\n",
       "      <td>100 million[23]</td>\n",
       "      <td>Mystery</td>\n",
       "    </tr>\n",
       "    <tr>\n",
       "      <th>5</th>\n",
       "      <td>Dream of the Red Chamber</td>\n",
       "      <td>Cao Xueqin</td>\n",
       "      <td>Chinese</td>\n",
       "      <td>1791</td>\n",
       "      <td>100 million[24][25]</td>\n",
       "      <td>Family saga</td>\n",
       "    </tr>\n",
       "    <tr>\n",
       "      <th>6</th>\n",
       "      <td>The Hobbit</td>\n",
       "      <td>J. R. R. Tolkien</td>\n",
       "      <td>English</td>\n",
       "      <td>1937</td>\n",
       "      <td>100 million[26][27][28]</td>\n",
       "      <td>Fantasy</td>\n",
       "    </tr>\n",
       "  </tbody>\n",
       "</table>\n",
       "</div>"
      ],
      "text/plain": [
       "                                       Book                    Author  \\\n",
       "0                               Don Quixote       Miguel de Cervantes   \n",
       "1                      A Tale of Two Cities           Charles Dickens   \n",
       "2                         The Little Prince  Antoine de Saint-Exupéry   \n",
       "3  Harry Potter and the Philosopher's Stone             J. K. Rowling   \n",
       "4                  And Then There Were None           Agatha Christie   \n",
       "5                  Dream of the Red Chamber                Cao Xueqin   \n",
       "6                                The Hobbit          J. R. R. Tolkien   \n",
       "\n",
       "  Original Language                    First Published  \\\n",
       "0           Spanish  1605 (1st Part),\\n1615 (2nd Part)   \n",
       "1           English                               1859   \n",
       "2            French                               1943   \n",
       "3           English                               1997   \n",
       "4           English                               1939   \n",
       "5           Chinese                               1791   \n",
       "6           English                               1937   \n",
       "\n",
       "                           Approx Sales               Genre  \n",
       "0                       500 million[17]   Adventure Fiction  \n",
       "1  200 million[18][circular reporting?]  Historical fiction  \n",
       "2                   200 million[19][20]             Novella  \n",
       "3                   120 million[21][22]             Fantasy  \n",
       "4                       100 million[23]             Mystery  \n",
       "5                   100 million[24][25]         Family saga  \n",
       "6               100 million[26][27][28]             Fantasy  "
      ]
     },
     "execution_count": 96,
     "metadata": {},
     "output_type": "execute_result"
    }
   ],
   "source": [
    "dataset"
   ]
  }
 ],
 "metadata": {
  "kernelspec": {
   "display_name": "Python 3",
   "language": "python",
   "name": "python3"
  },
  "language_info": {
   "codemirror_mode": {
    "name": "ipython",
    "version": 3
   },
   "file_extension": ".py",
   "mimetype": "text/x-python",
   "name": "python",
   "nbconvert_exporter": "python",
   "pygments_lexer": "ipython3",
   "version": "3.10.1"
  },
  "orig_nbformat": 4
 },
 "nbformat": 4,
 "nbformat_minor": 2
}
